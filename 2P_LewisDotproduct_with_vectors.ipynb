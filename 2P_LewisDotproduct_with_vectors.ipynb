{
  "nbformat": 4,
  "nbformat_minor": 0,
  "metadata": {
    "colab": {
      "provenance": [],
      "authorship_tag": "ABX9TyOBSeQwCcxD2m6wkoA89mRw",
      "include_colab_link": true
    },
    "kernelspec": {
      "name": "python3",
      "display_name": "Python 3"
    },
    "language_info": {
      "name": "python"
    }
  },
  "cells": [
    {
      "cell_type": "markdown",
      "metadata": {
        "id": "view-in-github",
        "colab_type": "text"
      },
      "source": [
        "<a href=\"https://colab.research.google.com/github/LLewis/ai-deep-learning-lewis-practice/blob/main/2P_LewisDotproduct_with_vectors.ipynb\" target=\"_parent\"><img src=\"https://colab.research.google.com/assets/colab-badge.svg\" alt=\"Open In Colab\"/></a>"
      ]
    },
    {
      "cell_type": "code",
      "execution_count": 24,
      "metadata": {
        "colab": {
          "base_uri": "https://localhost:8080/"
        },
        "id": "ODCMDlLYvnQ6",
        "outputId": "4a8f3687-137c-4a1a-d8f6-018211054a87"
      },
      "outputs": [
        {
          "output_type": "stream",
          "name": "stdout",
          "text": [
            "v1: [5 6 7 8]\n",
            "v2: [ 0  1  0 -1]\n",
            "dot() computed the dot product of vectors:  -2\n",
            "mathematically computed dot product:  -2\n"
          ]
        }
      ],
      "source": [
        "import torch\n",
        "import numpy as np\n",
        "\n",
        "#Using numnpy******************\n",
        "#create two vectors using numpy\n",
        "vector1 = np.array([5,6,7,8])\n",
        "vector2 = np.array([0,1,0,-1])\n",
        "\n",
        "print('v1:', vector1)\n",
        "print('v2:', vector2)\n",
        "\n",
        "#compute the dot product of both vectors\n",
        "#numpy dot product function\n",
        "dotprod1 = np.dot(vector1,vector2)\n",
        "print('dot() computed the dot product of vectors: ',dotprod1)\n",
        "\n",
        "##actual dot product algorithm, computation\n",
        "dotproduct1 = np.sum(vector1 * vector2)\n",
        "print('mathematically computed dot product: ',dotproduct)\n",
        "\n"
      ]
    },
    {
      "cell_type": "code",
      "source": [
        "#Using pytorch*************************\n",
        "#create vector rows using torch.tesnsor\n",
        "v1 = torch.tensor([9,10,11,12])\n",
        "v2 = torch.tensor([0,2,0,-2])\n",
        "\n",
        "print(v1)\n",
        "print(v2)\n",
        "\n",
        "#compute the dot product of both vectors\n",
        "#pytorch dot product function\n",
        "dotprod2 = torch.dot(v1,v2)\n",
        "print('torch.dot computer the dot product of vectors: ', dotprod2)\n",
        "\n",
        "#pytorch dot product algorithm computation\n",
        "#a one element tensor example:   tensor(-4)\n",
        "dotproduct2 = torch.sum(v1 * v2)\n",
        "print('mathematically computer dot product: ', dotproduct2)\n",
        "\n",
        "\n",
        "\n",
        "\n",
        "\n"
      ],
      "metadata": {
        "colab": {
          "base_uri": "https://localhost:8080/"
        },
        "id": "47W2MrtF6BGT",
        "outputId": "e95c0bb1-b61e-4a34-bb08-5e0611dfac20"
      },
      "execution_count": 27,
      "outputs": [
        {
          "output_type": "stream",
          "name": "stdout",
          "text": [
            "tensor([ 9, 10, 11, 12])\n",
            "tensor([ 0,  2,  0, -2])\n",
            "torch.dot computer the dot product of vectors:  tensor(-4)\n",
            "mathematically computer dot product:  tensor(-4)\n"
          ]
        }
      ]
    }
  ]
}