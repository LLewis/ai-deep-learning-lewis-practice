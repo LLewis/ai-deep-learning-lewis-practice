{
  "nbformat": 4,
  "nbformat_minor": 0,
  "metadata": {
    "colab": {
      "provenance": [],
      "authorship_tag": "ABX9TyO93Dc8JAEo2ZbQKjZpO3YR",
      "include_colab_link": true
    },
    "kernelspec": {
      "name": "python3",
      "display_name": "Python 3"
    },
    "language_info": {
      "name": "python"
    }
  },
  "cells": [
    {
      "cell_type": "markdown",
      "metadata": {
        "id": "view-in-github",
        "colab_type": "text"
      },
      "source": [
        "<a href=\"https://colab.research.google.com/github/LLewis/ai-deep-learning-lewis-practice/blob/main/1P_LewisTransposeMatrix_Vectors.ipynb\" target=\"_parent\"><img src=\"https://colab.research.google.com/assets/colab-badge.svg\" alt=\"Open In Colab\"/></a>"
      ]
    },
    {
      "cell_type": "markdown",
      "source": [
        "The transpose of a matrix is found by interchanging its rows into columns or columns into rows. The transpose of the matrix is denoted by using the letter “T” in the superscript of the given matrix. For example, if “A” is the given matrix, then the transpose of the matrix is represented by A' or AT.\n",
        "https://byjus.com/maths/transpose-of-a-matrix/"
      ],
      "metadata": {
        "id": "011e5Xwdp4de"
      }
    },
    {
      "cell_type": "code",
      "execution_count": 95,
      "metadata": {
        "colab": {
          "base_uri": "https://localhost:8080/"
        },
        "id": "0Tc2GFdtKz8n",
        "outputId": "77c46d3f-9282-49bf-9d2e-17ccb40a0c06"
      },
      "outputs": [
        {
          "output_type": "stream",
          "name": "stdout",
          "text": [
            "new one row vector: [[ 1  2  3  4  5  6  7  8  9 10]]\n",
            "\n",
            "the newrowvector transposed to column vector by using the numpy function T for transpose\n",
            "[[ 1]\n",
            " [ 2]\n",
            " [ 3]\n",
            " [ 4]\n",
            " [ 5]\n",
            " [ 6]\n",
            " [ 7]\n",
            " [ 8]\n",
            " [ 9]\n",
            " [10]]\n",
            "\n",
            "transpose the transposed: -vector transposed back to orginal row vector\n",
            "[[ 1  2  3  4  5  6  7  8  9 10]]\n"
          ]
        }
      ],
      "source": [
        "#import libraries\n",
        "import torch\n",
        "import numpy as np\n",
        "\n",
        "# warm-up numpy one row vector\n",
        "\"\"\"\n",
        "onerowvector = np.array([1,2,3,4,5,6,7,8,9])\n",
        "for element in onerowvector:\n",
        "  print('nunpy array:' , element)\n",
        "print(onerowvector), print()\n",
        "\n",
        "#pytorch tensor - like a list or array\n",
        "newtensor = torch.Tensor([6,7,8])\n",
        "print('new tensor: ' , newtensor)\n",
        "\"\"\"\n",
        "#***USING NUMPY np.array([])*****an ndarray() type******************************\n",
        "#--------WORKING WITH VECTORS-------------------------------\n",
        "#create a row vector using numpy array\n",
        "newrowvector = np.array([[1,2,3,4,5,6,7,8,9,10]])\n",
        "print('new one row vector:', newrowvector),print('')\n",
        "\n",
        "#Transpose row vector to a column vector\n",
        "transposedvector = newrowvector.T\n",
        "print('the newrowvector transposed to column vector by using the numpy function T for transpose')\n",
        "print(transposedvector),print('')\n",
        "\n",
        "#transpose vector back to original row vector\n",
        "transposedvectorT = transposedvector.T\n",
        "print('transpose the transposed: -vector transposed back to orginal row vector')\n",
        "print(transposedvectorT)"
      ]
    },
    {
      "cell_type": "code",
      "source": [
        "#***USING NUMPY np.array([]) an ndarray() type**********************************\n",
        "#----------WORKING WITH MATRIX---------------------------\n",
        "#create a matrix with 3 rows and 4 columns using numpy\n",
        "newmatrix = np.array([[11,12,13,14],[15,16,17,18],[19,20,21,22]])\n",
        "print('new matrix 3x4:')\n",
        "print(newmatrix)\n",
        "\n",
        "#Transpose matrix using the numpy T transpose function\n",
        "newmatrixT = newmatrix.T\n",
        "print('transposed matrix, now 4x3')\n",
        "print(newmatrixT)\n",
        "\n",
        "#transpose the transposed\n",
        "transposedmatrixT = newmatrixT.T\n",
        "print('transpose the transposed matrix back to original 3x4')\n",
        "print(transposedmatrixT)"
      ],
      "metadata": {
        "colab": {
          "base_uri": "https://localhost:8080/"
        },
        "id": "ifYNLceMzOLB",
        "outputId": "c75eb9bb-ea99-4a77-8b0e-a7f1d358099e"
      },
      "execution_count": 96,
      "outputs": [
        {
          "output_type": "stream",
          "name": "stdout",
          "text": [
            "new matrix 3x4:\n",
            "[[11 12 13 14]\n",
            " [15 16 17 18]\n",
            " [19 20 21 22]]\n",
            "transposed matrix, now 4x3\n",
            "[[11 15 19]\n",
            " [12 16 20]\n",
            " [13 17 21]\n",
            " [14 18 22]]\n",
            "transpose the transposed matrix back to original 3x4\n",
            "[[11 12 13 14]\n",
            " [15 16 17 18]\n",
            " [19 20 21 22]]\n"
          ]
        }
      ]
    },
    {
      "cell_type": "code",
      "source": [
        "#***USING PYTORCH torch.tensor([])*****using torch.Tensor class****************************************************\n",
        "#--------WORKING WITH VECTORS-------------------------------\n",
        "#create a tensor row vector- can also add additional rows by implementing- torch.tensor([[1,2,3,4,5],[6,7,8,9,10]]\n",
        "\n",
        "tensorrowvector = torch.tensor([[1,2,3,4,5]])\n",
        "print('tensor row vector')\n",
        "print(tensorrowvector)\n",
        "\n",
        "#transpose to tensor column vector\n",
        "tensorrowvectorT = tensorrowvector.T\n",
        "print('transposed to tensor column vector ')\n",
        "print(tensorrowvectorT)\n",
        "\n",
        "#tranpose the transposed\n",
        "transposedvectorbackT = tensorrowvectorT.T\n",
        "print('transpose back to tensor row vector')\n",
        "print(transposedvectorbackT)"
      ],
      "metadata": {
        "colab": {
          "base_uri": "https://localhost:8080/"
        },
        "id": "tcVuBTMeym9s",
        "outputId": "23d658d6-9a1d-454a-cf6e-9c01f201775e"
      },
      "execution_count": 97,
      "outputs": [
        {
          "output_type": "stream",
          "name": "stdout",
          "text": [
            "tensor row vector\n",
            "tensor([[1, 2, 3, 4, 5]])\n",
            "transposed to tensor column vector \n",
            "tensor([[1],\n",
            "        [2],\n",
            "        [3],\n",
            "        [4],\n",
            "        [5]])\n",
            "transpose back to tensor row vector\n",
            "tensor([[1, 2, 3, 4, 5]])\n"
          ]
        }
      ]
    },
    {
      "cell_type": "code",
      "source": [
        "#***USING PYTORCH torch.tensor([])*****uses torch.Tensor****************************************************\n",
        "#--------WORKING WITH MATRIX-------------------------------\n",
        "#create a matix using pytorh's torch.tensor\n",
        "pytorchmatrix = torch.tensor([[20,21,22,23],[24,25,26,27],[28,29,30,31]])\n",
        "print('matrix 3x4 using pytorch torch.tensor')\n",
        "print(pytorchmatrix)\n",
        "\n",
        "#transpose matrix to 4x3\n",
        "pytorchmatrixT = pytorchmatrix.T\n",
        "print('transposed matrix now 4x3')\n",
        "print(pytorchmatrixT)\n",
        "\n",
        "#transpose the transposed matrix back to original 3x4\n",
        "transposedmatrixbackT = pytorchmatrixT.T\n",
        "print('transpose the transposed matrix back to original 3x4')\n",
        "print(transposedmatrixbackT)"
      ],
      "metadata": {
        "colab": {
          "base_uri": "https://localhost:8080/"
        },
        "id": "xAB1vqJTxyNE",
        "outputId": "62be36c4-d1f1-46a6-8459-7175b9d7880a"
      },
      "execution_count": 98,
      "outputs": [
        {
          "output_type": "stream",
          "name": "stdout",
          "text": [
            "matrix 3x4 using pytorch torch.tensor\n",
            "tensor([[20, 21, 22, 23],\n",
            "        [24, 25, 26, 27],\n",
            "        [28, 29, 30, 31]])\n",
            "transposed matrix now 4x3\n",
            "tensor([[20, 24, 28],\n",
            "        [21, 25, 29],\n",
            "        [22, 26, 30],\n",
            "        [23, 27, 31]])\n",
            "transpose the transposed matrix back to original 3x4\n",
            "tensor([[20, 21, 22, 23],\n",
            "        [24, 25, 26, 27],\n",
            "        [28, 29, 30, 31]])\n"
          ]
        }
      ]
    },
    {
      "cell_type": "code",
      "source": [
        "print(f'Variable newrowvector is of type {type(newrowvector)}')\n",
        "print(f'Variable transposedvectorT is of type {type(transposedvectorT)}')\n",
        "print(f'Variable newmatrix is of type {type(newmatrix)}')\n",
        "print(f'Variable newmatrixT is of type {type(newmatrixT)}')\n",
        "\n",
        "print(f'Variable tensorrowvector is of type {type(tensorrowvector)}')\n",
        "print(f'Variable tensorrowvectorT is of type {type(tensorrowvectorT)}')\n",
        "print(f'Variable pytorchmatrix is of type {type(pytorchmatrix)}')\n",
        "print(f'Variable pytorchmatrixT is of type {type(pytorchmatrixT)}')"
      ],
      "metadata": {
        "colab": {
          "base_uri": "https://localhost:8080/"
        },
        "id": "_V7NUoDx1Uln",
        "outputId": "d2626ac7-fdd8-4fe9-b27a-e22bf9fd9c10"
      },
      "execution_count": 99,
      "outputs": [
        {
          "output_type": "stream",
          "name": "stdout",
          "text": [
            "Variable newrowvector is of type <class 'numpy.ndarray'>\n",
            "Variable transposedvectorT is of type <class 'numpy.ndarray'>\n",
            "Variable newmatrix is of type <class 'numpy.ndarray'>\n",
            "Variable newmatrixT is of type <class 'numpy.ndarray'>\n",
            "Variable tensorrowvector is of type <class 'torch.Tensor'>\n",
            "Variable tensorrowvectorT is of type <class 'torch.Tensor'>\n",
            "Variable pytorchmatrix is of type <class 'torch.Tensor'>\n",
            "Variable pytorchmatrixT is of type <class 'torch.Tensor'>\n"
          ]
        }
      ]
    }
  ]
}